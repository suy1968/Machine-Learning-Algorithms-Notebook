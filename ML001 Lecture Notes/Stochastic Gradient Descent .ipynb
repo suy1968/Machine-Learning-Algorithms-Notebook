{
 "cells": [
  {
   "attachments": {
    "image.png": {
     "image/png": "[encoded data removed]"
    }
   },
   "cell_type": "markdown",
   "metadata": {},
   "source": [
    "## Stochastic Gradient Descent 📚 \n",
    "\n",
    "Stochastic Gradient Descent is an optimization algorithm or advanced and improved version of Batch Gradient descent as we have seen, so in this notebook you will learn about SGD in detail. \n",
    "\n",
    "We use SGD for larger datasets because the standard batch gradient descent tends to work slow on larger datasets. So as an example, let's assume we have 10,000 data points and 10 features. The sum of squared residuals consists of as many terms as there are data points, so 10000 terms in our case. We need to compute the derivative of this function with respect to each of the features, so in effect we will be doing 10000 * 10 = 100,000 computations per iteration. It is common to take 1000 iterations, in effect we have 100,000 * 1000 = 100000000 computations to complete the algorithm.  \n",
    "\n",
    "So, That's why we use SGD for larger datasets. \n",
    "\n",
    "So, how this algorithm works? \n",
    "![image.png](attachment:image.png)"
   ]
  },
  {
   "cell_type": "code",
   "execution_count": 3,
   "metadata": {},
   "outputs": [
    {
     "data": {
      "text/html": [
       "\n",
       "        <iframe\n",
       "            width=\"1000\"\n",
       "            height=\"400\"\n",
       "            src=\"https://en.wikipedia.org/wiki/Stochastic_gradient_descent\"\n",
       "            frameborder=\"0\"\n",
       "            allowfullscreen\n",
       "        ></iframe>\n",
       "        "
      ],
      "text/plain": [
       "<IPython.lib.display.IFrame at 0x2c6e63688b0>"
      ]
     },
     "metadata": {},
     "output_type": "display_data"
    }
   ],
   "source": [
    "from IPython.display import IFrame\n",
    "wiki = IFrame(src='https://en.wikipedia.org/wiki/Stochastic_gradient_descent', \n",
    "                       width=1000, \n",
    "                       height=400)\n",
    "display(wiki)"
   ]
  },
  {
   "cell_type": "markdown",
   "metadata": {},
   "source": [
    "### Performance Metrics for classification models \n",
    "\n",
    "   - TP :- True Positive (It means that the outcome where the model correctly predicts the positive class. ) \n",
    "   - TN :- True Negative (an outcome where the model correctly predicts the negative class. ) \n",
    "   - FP :- False Positive ( an outcome where the model incorrectly predicts the positive class.)    \n",
    "   - FN :- False Negative ( an outcome where the model incorrectly predicts the negative class. ) \n",
    "\n",
    "Confusion Matrix \n",
    "\n",
    "<a title=\"Errachete, CC BY-SA 4.0 &lt;https://creativecommons.org/licenses/by-sa/4.0&gt;, via Wikimedia Commons\" href=\"https://commons.wikimedia.org/wiki/File:Binary_confusion_matrix.jpg\"><img width=\"256\" alt=\"Binary confusion matrix\" src=\"https://upload.wikimedia.org/wikipedia/commons/3/32/Binary_confusion_matrix.jpg\"></a>\n",
    "\n",
    "Precision :- The number of true positives divided by the number of true positives plus the number of false positives. It answers this question \"What proportion of positive identifications was actually correct?\" \n",
    "\n",
    "Recall :- Recall answers this question What proportion of actual positives was identified correctly? ( TP / TP + FN ) "
   ]
  },
  {
   "cell_type": "code",
   "execution_count": null,
   "metadata": {},
   "outputs": [],
   "source": []
  },
  {
   "cell_type": "code",
   "execution_count": null,
   "metadata": {},
   "outputs": [],
   "source": []
  },
  {
   "cell_type": "code",
   "execution_count": null,
   "metadata": {},
   "outputs": [],
   "source": []
  },
  {
   "cell_type": "code",
   "execution_count": null,
   "metadata": {},
   "outputs": [],
   "source": []
  },
  {
   "cell_type": "code",
   "execution_count": null,
   "metadata": {},
   "outputs": [],
   "source": []
  },
  {
   "cell_type": "code",
   "execution_count": null,
   "metadata": {},
   "outputs": [],
   "source": []
  },
  {
   "cell_type": "code",
   "execution_count": null,
   "metadata": {},
   "outputs": [],
   "source": []
  },
  {
   "cell_type": "code",
   "execution_count": null,
   "metadata": {},
   "outputs": [],
   "source": []
  },
  {
   "cell_type": "code",
   "execution_count": null,
   "metadata": {},
   "outputs": [],
   "source": []
  },
  {
   "cell_type": "code",
   "execution_count": null,
   "metadata": {},
   "outputs": [],
   "source": []
  },
  {
   "cell_type": "code",
   "execution_count": null,
   "metadata": {},
   "outputs": [],
   "source": []
  },
  {
   "cell_type": "code",
   "execution_count": null,
   "metadata": {},
   "outputs": [],
   "source": []
  },
  {
   "cell_type": "code",
   "execution_count": null,
   "metadata": {},
   "outputs": [],
   "source": []
  },
  {
   "cell_type": "code",
   "execution_count": null,
   "metadata": {},
   "outputs": [],
   "source": []
  }
 ],
 "metadata": {
  "kernelspec": {
   "display_name": "Python 3",
   "language": "python",
   "name": "python3"
  },
  "language_info": {
   "codemirror_mode": {
    "name": "ipython",
    "version": 3
   },
   "file_extension": ".py",
   "mimetype": "text/x-python",
   "name": "python",
   "nbconvert_exporter": "python",
   "pygments_lexer": "ipython3",
   "version": "3.8.3"
  }
 },
 "nbformat": 4,
 "nbformat_minor": 4
}
