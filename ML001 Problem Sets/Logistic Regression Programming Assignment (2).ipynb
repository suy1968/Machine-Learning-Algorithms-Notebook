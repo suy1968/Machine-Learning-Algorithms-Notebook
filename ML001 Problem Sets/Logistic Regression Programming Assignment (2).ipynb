{
 "cells": [
  {
   "cell_type": "markdown",
   "metadata": {},
   "source": [
    "<h1 style = \"color:black;border:0;font-family:Segoe Print;font-weight:bold\">Building a breat cancer detection system From Scratch📚</h1> \n",
    "\n",
    "<br>\n",
    "<p style = \"color:black;font-family:Segoe Print;font-weight:bold\">Welcome to this programming assignment of the session. In this programming assignment you will work on developing your own logistic regression model from scratch.</p> \n",
    "<p style = \"color:black;font-family:Segoe Print;font-weight:bold\">📑📑 After this Assignment, you will be having a good conceptual understanding of logistic regression, be able to argue on this topic, can answer the interview based questions.</p> \n",
    "\n",
    "<img src = 'images/sigmoid.png' width=\"300\" height=\"200\"/> \n",
    "\n",
    "<p style = \"color:darkred;font-family:Segoe Print;font-weight:bold\">So, let's start with this programming assignment.</p> "
   ]
  },
  {
   "cell_type": "code",
   "execution_count": null,
   "metadata": {},
   "outputs": [],
   "source": [
    "# Importing Packages # \n",
    "\n",
    "import numpy as np # for scientific computation \n",
    "import pandas as pd # for working with data\n",
    "from sklearn.model_selection import train_test_split # for splitting the data\n",
    "from sklearn.datasets import load_breast_cancer # dataset that we will be using \n",
    "import warnings # optional \n",
    "warnings.filterwarnings( \"ignore\" ) # optional"
   ]
  },
  {
   "cell_type": "markdown",
   "metadata": {},
   "source": [
    "<h3 style = \"color:black;border:0;font-family:Segoe Print;font-weight:bold\">Sigmoid Function 📚</h3>  \n",
    "\n",
    "<p style = \"color:black;font-family:Segoe Print;font-weight:bold\">In the following exercise you need to implement Sigmoid function that you have studied in the class.</p> "
   ]
  },
  {
   "cell_type": "code",
   "execution_count": null,
   "metadata": {},
   "outputs": [],
   "source": [
    "def Sigmoid(z): \n",
    "    ''' \n",
    "    Input: \n",
    "    *********** \n",
    "    z:- output from the hypothesis  \n",
    "    *********** \n",
    "    \n",
    "    Output: \n",
    "    ----------- \n",
    "    y_hat:- final output \n",
    "    ----------- \n",
    "    \n",
    "    Instructions:- \n",
    "    ----------- \n",
    "    In you have to write your code where is indicated you have to remove TODO and then write \n",
    "    your code. Your code should be completed within 2 lines of code. \n",
    "    -----------\n",
    "    \n",
    "    Hints:- \n",
    "    use, np.exp()\n",
    "    \n",
    "    '''  \n",
    "    \n",
    "    # ==================================== YOUR CODE START HERE ====================≈ 2 Lines \n",
    "    y_hat = # TODO: YOUR CODE HERE    \n",
    "    return  # TODO: YOUR CODE HERE\n",
    "    # ==================================== YOUR CODE END HERE ======================\n",
    "     \n",
    "    raise NotImplementedError "
   ]
  },
  {
   "cell_type": "code",
   "execution_count": null,
   "metadata": {},
   "outputs": [],
   "source": [
    "# ================================ TEST CASES =================================== \n",
    "\n",
    "assert Sigmoid(0) == 0.5, 'You have implemented it wrong' \n",
    "assert Sigmoid(1.5) == 0.8175744761936437, 'Check your Implementation'  \n",
    "assert Sigmoid(0.9999999999999999999) == 0.7310585786300049,'Make Sure that you have used the correct functions' \n",
    "print(\"Good Job, All test cases passed 😊, You're ready to move on 👍\")"
   ]
  },
  {
   "cell_type": "markdown",
   "metadata": {},
   "source": [
    "<h3 style = \"color:black;border:0;font-family:Segoe Print;font-weight:bold\">Building Model 📚</h3>   \n",
    "<p style = \"color:black;border:0;font-family:Segoe Print;font-weight:bold\">In this exercise you will implement Gradient Descent for training your model.</p>   "
   ]
  },
  {
   "cell_type": "code",
   "execution_count": null,
   "metadata": {},
   "outputs": [],
   "source": [
    "def gradientDescent(x, y, theta, alpha, num_iters):\n",
    "    '''\n",
    "    Input:\n",
    "    ********\n",
    "        x: matrix of features which is (m,n+1)\n",
    "        y: corresponding labels of the input matrix x, dimensions (m,1)\n",
    "        theta: weight vector of dimension (n+1,1)\n",
    "        alpha: learning rate\n",
    "        num_iters: number of iterations you want to train your model for\n",
    "    ********\n",
    "    \n",
    "    Output:\n",
    "    ----------\n",
    "        theta: your final weight vector \n",
    "    ---------- \n",
    "    ''' \n",
    "    # =============================== YOUR CODE HERE =============================\n",
    "    m = len(y) # TODO : CODE HERE \n",
    "    \n",
    "    for i in range(0, num_iters):\n",
    "        \n",
    "        # get z, the dot product of x and theta\n",
    "        z =  None \n",
    "        \n",
    "        # get the sigmoid of z\n",
    "        h = None \n",
    "        \n",
    "        # calculate the cost function\n",
    "        J = None \n",
    "\n",
    "        # update the weights theta\n",
    "        theta =  None \n",
    "    # =============================== YOUR CODE END HERE ==========================\n",
    "        \n",
    "    return theta "
   ]
  },
  {
   "cell_type": "code",
   "execution_count": null,
   "metadata": {},
   "outputs": [],
   "source": [
    "# ================================ TEST CASES =================================== \n",
    "np.random.seed(1)\n",
    "Test_X = np.append(np.ones((10, 1)), np.random.rand(10, 2) * 2000, axis=1)\n",
    "Test_Y = (np.random.rand(10, 1) > 0.35).astype(float)\n",
    "Test_theta = gradientDescent(Test_X , Test_Y, np.zeros((3, 1)), 1e-8, 700)  \n",
    "value = print(f\"The resulting vector of weights is {[round(t, 8) for t in np.squeeze(Test_theta)]}\") \n",
    "assert value == value "
   ]
  },
  {
   "cell_type": "markdown",
   "metadata": {},
   "source": [
    "<h3 style = \"color:black;border:0;font-family:Segoe Print;font-weight:bold\">Loading Data and Training📚</h3>   "
   ]
  },
  {
   "cell_type": "code",
   "execution_count": null,
   "metadata": {},
   "outputs": [],
   "source": [
    "from sklearn.datasets import load_breast_cancer # loading data form the sklearn api  \n",
    "data = load_breast_cancer() # instantiating \n",
    "\n",
    "print(data.DESCR) # You can take a look at what data we are working on "
   ]
  },
  {
   "cell_type": "code",
   "execution_count": null,
   "metadata": {},
   "outputs": [],
   "source": [
    "from sklearn.model_selection import train_test_split # for dividing the data \n",
    "\n",
    "X = data.data  # loads the data  \n",
    "y = data.target # loads the target variable  \n",
    "\n",
    "X_train, X_test, Y_train, Y_test = train_test_split(X,y,test_size = 0.3, random_state=0 )\n",
    "print(X_train.shape) \n",
    "print(Y_train.shape) \n",
    "print(X_test.shape) \n",
    "print(Y_test.shape)"
   ]
  },
  {
   "cell_type": "code",
   "execution_count": null,
   "metadata": {},
   "outputs": [],
   "source": [
    "# ================================== Training your Model ============================= \n",
    "theta = gradientDescent(X_train, Y_train, np.zeros((30)), 0.001, 700)\n",
    "print(f\"The resulting vector of weights is {[round(t, 8) for t in np.squeeze(theta)]}\")"
   ]
  },
  {
   "cell_type": "markdown",
   "metadata": {},
   "source": [
    "```Python \n",
    "Expected Output  \n",
    "\n",
    "The resulting vector of weights is [0.26710018, 0.42972718, 1.5782131, 0.98107781, 0.00252358, -0.0004329, -0.00379412, -0.00170445, 0.00473013, 0.00200138, 0.00016844, 0.03043851, -0.01000972, -0.79385023, 0.00017963, 5.59e-06, -0.00018409, 2.707e-05, 0.00048862, 6.335e-05, 0.27866735, 0.544369, 1.58675777, -1.15944894, 0.0032222, -0.00251253, -0.00721919, -0.00171032, 0.00677563, 0.00202829] \n",
    "```"
   ]
  },
  {
   "cell_type": "markdown",
   "metadata": {},
   "source": [
    "<p style = \"color:black;border:0;font-family:Segoe Print;font-weight:bold\">Now, you got the learned weights and now using these you can make the predictions</p>   \n",
    "\n",
    "<h3 style = \"color:black;border:0;font-family:Segoe Print;font-weight:bold\">Testing and Evaluating your Model 📚</h3>   "
   ]
  },
  {
   "cell_type": "code",
   "execution_count": null,
   "metadata": {},
   "outputs": [],
   "source": [
    "def predictions(X, theta): \n",
    "    '''\n",
    "    ---------------\n",
    "    input: \n",
    "        X : input  \n",
    "        theta : feature weights \n",
    "    ----------------\n",
    "    output: \n",
    "        Y : 0 Or 1  \n",
    "    ----------------\n",
    "    Instructions:- \n",
    "    ----------- \n",
    "    In you have to write your code where is indicated you have to remove TODO and then write \n",
    "    your code. Your code should be completed within 1 lines of code.  \n",
    "    ----------- \n",
    "    \n",
    "    Hints:-  \n",
    "    Hint 1.) Take out the z by taking the dot product of X and Theta and then apply Sigmoid for y_hat. \n",
    "    Hint 2.) Yse np.where to get prediction as 1 or 0.\n",
    "    ''' \n",
    "    # =================================== YOUR CODE HERE ===========================\n",
    "    Z = None   # TODO : YOUR CODE HERE        \n",
    "    Y = None       # TODO : YOUR CODE HERE       \n",
    "    # ==================================== END HERE ================================\n",
    "    return Y\n",
    "\n",
    "# ========================= TEST CASE ==============================\n",
    "y_pred = predictions(X_test, theta) ### Predicting on the test set \n",
    "print(y_pred)"
   ]
  },
  {
   "cell_type": "markdown",
   "metadata": {},
   "source": [
    "```Python \n",
    "# Expected Output:- \n",
    "array([0, 1, 1, 0, 1, 1, 1, 1, 1, 1, 1, 1, 1, 1, 1, 0, 1, 0, 1, 0, 0, 0,\n",
    "       1, 1, 1, 1, 1, 1, 1, 0, 1, 0, 1, 0, 1, 0, 1, 0, 1, 0, 0, 1, 0, 1,\n",
    "       1, 0, 1, 1, 1, 0, 0, 1, 0, 1, 1, 1, 1, 1, 1, 0, 0, 0, 1, 1, 0, 1,\n",
    "       0, 0, 0, 1, 0, 0, 1, 1, 0, 1, 1, 1, 1, 1, 0, 0, 0, 1, 0, 1, 1, 1,\n",
    "       0, 0, 1, 0, 1, 1, 1, 1, 0, 1, 1, 1, 1, 1, 1, 1, 0, 1, 0, 0, 0, 1,\n",
    "       1, 0, 0, 1, 1, 1, 1, 1, 1, 1, 1, 1, 1, 1, 0, 1, 0, 1, 1, 1, 0, 1,\n",
    "       1, 1, 1, 1, 1, 0, 0, 1, 1, 1, 0, 1, 1, 0, 1, 0, 1, 1, 1, 1, 1, 1,\n",
    "       1, 0, 1, 0, 1, 0, 0, 1, 1, 0, 1, 0, 0, 0, 1, 1, 1]) \n",
    "```\n"
   ]
  },
  {
   "cell_type": "code",
   "execution_count": null,
   "metadata": {},
   "outputs": [],
   "source": [
    "def Evaluate(test_x, test_y, theta):   \n",
    "    ''' \n",
    "    Input: \n",
    "        test_x:- data to make prediction on which is unseen by the model. \n",
    "        test_y:- ground truth of test_x \n",
    "        theta:- learned feature weights \n",
    "    \n",
    "    Output: \n",
    "        accuracy \n",
    "        \n",
    "    Instructions:-\n",
    "    ----------- \n",
    "    In you have to write your code where is indicated you have to remove None and then write \n",
    "    your code. \n",
    "    ----------- \n",
    "    \n",
    "    '''\n",
    "    y_hat = [] # making an empty list  \n",
    "    # ======================================= YOUR CODE HERE =========================\n",
    "    for x in None: \n",
    "       \n",
    "        # get the label prediction \n",
    "        y_pred = None \n",
    "        \n",
    "        if y_pred > 0.5:\n",
    "            # TODO: append 1.0 to the list\n",
    "            \n",
    "        else:\n",
    "            # TODO: append 0 to the list \n",
    "    # ======================================== YOUR END HERE =========================\n",
    "            \n",
    "    accuracy = (y_hat==np.squeeze(test_y)).sum()/len(test_x)\n",
    "    \n",
    "    return accuracy"
   ]
  },
  {
   "cell_type": "code",
   "execution_count": null,
   "metadata": {},
   "outputs": [],
   "source": [
    "accuracy = Evaluate(X_test, Y_test, theta)\n",
    "print(f\"😀😀 Logistic regression model's accuracy = {accuracy:.4f}\")"
   ]
  },
  {
   "cell_type": "markdown",
   "metadata": {},
   "source": [
    "<h3 style = \"color:black;border:0;font-family:Segoe Print;font-weight:bold\">Congratulations 🎉🎉 </h3>    \n",
    "\n",
    "<p style = \"color:black;border:0;font-family:Segoe Print;font-weight:bold\">You have developed your own end to end logistic regression model that can predict, whether the person has cancer or not, and even you haven't use any kind of external library for training. And also you have mastered logistic regression.</p>  \n",
    "\n",
    "<p style = \"color:darkred;border:0;font-family:Segoe Print;font-weight:bold\">If you had completed this assignment, you have got both theoretical and practical knowledge, of one of the most popular algorithm Logistic Regression. </p>  "
   ]
  }
 ],
 "metadata": {
  "kernelspec": {
   "display_name": "Python 3",
   "language": "python",
   "name": "python3"
  },
  "language_info": {
   "codemirror_mode": {
    "name": "ipython",
    "version": 3
   },
   "file_extension": ".py",
   "mimetype": "text/x-python",
   "name": "python",
   "nbconvert_exporter": "python",
   "pygments_lexer": "ipython3",
   "version": "3.8.8"
  }
 },
 "nbformat": 4,
 "nbformat_minor": 4
}
